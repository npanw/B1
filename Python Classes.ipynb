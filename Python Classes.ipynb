{
 "cells": [
  {
   "cell_type": "markdown",
   "id": "98f1bfcf-4785-4cb9-872b-2358f8d08a67",
   "metadata": {
    "tags": []
   },
   "source": [
    "**Q1. Write a function that takes one input argument and returns it's sum, cumulative sum , average, minimum and maximum  value implement function using for loop, define function documentation using doc string ns show it,s uses**"
   ]
  },
  {
   "cell_type": "code",
   "execution_count": 9,
   "id": "ec124b10-c70a-4acc-a93f-e03b154add13",
   "metadata": {},
   "outputs": [
    {
     "name": "stdout",
     "output_type": "stream",
     "text": [
      "the sum= 0\n"
     ]
    },
    {
     "name": "stdin",
     "output_type": "stream",
     "text": [
      "enter a number 1\n",
      "enter a number 2\n",
      "enter a number 3\n",
      "enter a number 4\n",
      "enter a number 5\n"
     ]
    }
   ],
   "source": [
    "ls = []\n",
    "def calc(ls):\n",
    "    sum =0\n",
    "    avr=0\n",
    "    for ele in ls:\n",
    "        sum=sum=ele\n",
    "    print(\"the sum=\",sum)\n",
    "    \n",
    "    for i in range(5):\n",
    "                inp=int(input(\"enter a number\"))\n",
    "                ls.append(inp)\n",
    "calc(ls)"
   ]
  },
  {
   "cell_type": "markdown",
   "id": "b5e0da68-ae9e-4986-948a-4d10ae7dc5cd",
   "metadata": {},
   "source": [
    "**Q2. Write a program to take n input from user and store them as a list**"
   ]
  },
  {
   "cell_type": "code",
   "execution_count": 10,
   "id": "3d1da87e-d183-4503-94c6-d229d19b1adf",
   "metadata": {},
   "outputs": [
    {
     "name": "stdin",
     "output_type": "stream",
     "text": [
      "Enter the amount of numbers in lit 2\n",
      "Enter the elements for the list 1\n",
      "Enter the elements for the list 3\n"
     ]
    },
    {
     "name": "stdout",
     "output_type": "stream",
     "text": [
      "[1, 3]\n"
     ]
    }
   ],
   "source": [
    "ls =[]\n",
    "n= int(input(\"Enter the amount of numbers in lit\"))\n",
    "\n",
    "for i in range(0,n):\n",
    "    inp=int(input(\"Enter the elements for the list\"))\n",
    "    ls.append(inp)\n",
    "print(ls)    "
   ]
  },
  {
   "cell_type": "code",
   "execution_count": null,
   "id": "b8b09c1c-50a0-47f1-976e-a21f7ee08daa",
   "metadata": {},
   "outputs": [],
   "source": []
  }
 ],
 "metadata": {
  "kernelspec": {
   "display_name": "Python 3 (ipykernel)",
   "language": "python",
   "name": "python3"
  },
  "language_info": {
   "codemirror_mode": {
    "name": "ipython",
    "version": 3
   },
   "file_extension": ".py",
   "mimetype": "text/x-python",
   "name": "python",
   "nbconvert_exporter": "python",
   "pygments_lexer": "ipython3",
   "version": "3.9.7"
  }
 },
 "nbformat": 4,
 "nbformat_minor": 5
}
