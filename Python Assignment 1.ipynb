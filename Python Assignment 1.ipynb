{
 "cells": [
  {
   "cell_type": "markdown",
   "id": "48e5bb50-bfe3-4ec0-b278-2369a5fe2cf8",
   "metadata": {},
   "source": [
    "***Python Assignment 1***\n",
    "\n",
    "***Question 1***"
   ]
  },
  {
   "cell_type": "code",
   "execution_count": 3,
   "id": "bf2b1a1e-89d6-45c2-a8d3-06aaf0530fd6",
   "metadata": {},
   "outputs": [
    {
     "name": "stdout",
     "output_type": "stream",
     "text": [
      "Name:Naveen Singh Panwar\n",
      "Course Name:MCA_B1\n",
      "Python Version:3.9.7 (default, Sep 16 2021, 16:59:28) [MSC v.1916 64 bit (AMD64)]\n"
     ]
    }
   ],
   "source": [
    "import sys\n",
    "\n",
    "# Define the details\n",
    "name = \"Naveen Singh Panwar\"\n",
    "coursename = \"MCA_B1\"\n",
    "pythonversion = sys.version\n",
    "\n",
    "# Print the details\n",
    "print(f\"Name:{name}\")\n",
    "print(f\"Course Name:{coursename}\")\n",
    "print(f\"Python Version:{pythonversion}\")"
   ]
  },
  {
   "cell_type": "markdown",
   "id": "71b815a6-d489-450c-b3ad-ee1ee1a5d9a3",
   "metadata": {},
   "source": [
    "***Question 2***"
   ]
  },
  {
   "cell_type": "code",
   "execution_count": 23,
   "id": "277ced69-8813-49b4-afd3-5713a6b7fc93",
   "metadata": {},
   "outputs": [
    {
     "name": "stdout",
     "output_type": "stream",
     "text": [
      "Hello, Python World!\n"
     ]
    }
   ],
   "source": [
    "print(\"Hello, Python World!\")"
   ]
  },
  {
   "cell_type": "markdown",
   "id": "ed8e0d13-fedd-48a5-888a-f0b08714071d",
   "metadata": {},
   "source": [
    "***Part 2 - Question 1 Basic Python Syntax***"
   ]
  },
  {
   "cell_type": "code",
   "execution_count": 7,
   "id": "bb4bdd41-d39e-407e-9038-9b15a0b17037",
   "metadata": {},
   "outputs": [
    {
     "name": "stdin",
     "output_type": "stream",
     "text": [
      "Enter your First Name:  Naveen \n",
      "Enter your Last Name:  Singh Panwar\n"
     ]
    },
    {
     "name": "stdout",
     "output_type": "stream",
     "text": [
      "Singh Panwar Naveen \n"
     ]
    }
   ],
   "source": [
    "# taking the input from the user for first name and store it in the 'first_name' variable\n",
    "first_name = input(\"Enter your First Name: \")\n",
    "\n",
    "#  takinh input for last name and store it in the 'last_name' variable\n",
    "last_name = input(\"Enter your Last Name: \")\n",
    "\n",
    "# Display a message with the last name followed by the first name\n",
    "print(last_name + ' '+ first_name)"
   ]
  },
  {
   "cell_type": "markdown",
   "id": "690a7f27-e692-42c6-aacd-7514edc87611",
   "metadata": {},
   "source": [
    "***Question 2***"
   ]
  },
  {
   "cell_type": "code",
   "execution_count": 3,
   "id": "c1d80035-72ff-49f8-9f44-5696c8753ce9",
   "metadata": {},
   "outputs": [
    {
     "name": "stdin",
     "output_type": "stream",
     "text": [
      "Enter your Number:  24\n"
     ]
    },
    {
     "name": "stdout",
     "output_type": "stream",
     "text": [
      "Integer Value: 24\n",
      "Float Value: 24.0\n",
      "Complex Value: (24+0j)\n"
     ]
    }
   ],
   "source": [
    "user_input = input(\"Enter your Number: \")\n",
    "int_value = int(float(user_input))\n",
    "float_value = float(user_input)\n",
    "complex_value = complex(float_value)\n",
    "\n",
    "print(\"Integer Value:\", int_value)\n",
    "print(\"Float Value:\", float_value)\n",
    "print(\"Complex Value:\", complex_value)"
   ]
  },
  {
   "cell_type": "markdown",
   "id": "069e952e-77c4-4e43-ae87-8667e56766ab",
   "metadata": {},
   "source": [
    "***Question 3***"
   ]
  },
  {
   "cell_type": "code",
   "execution_count": 9,
   "id": "5ffa4546-ff8c-4b7d-8f7f-0d9506fcf552",
   "metadata": {},
   "outputs": [
    {
     "name": "stdin",
     "output_type": "stream",
     "text": [
      "Enter the length:  20\n",
      "Enter the width:  34\n"
     ]
    },
    {
     "name": "stdout",
     "output_type": "stream",
     "text": [
      "Area of Rectangle:  680\n"
     ]
    }
   ],
   "source": [
    "#taking input in length variable\n",
    "length = int(input(\"Enter the length: \"))\n",
    "\n",
    "#taking input in width variable\n",
    "width = int(input(\"Enter the width: \"))\n",
    "\n",
    "area = length * width\n",
    "\n",
    "print(\"Area of Rectangle: \",area)"
   ]
  },
  {
   "cell_type": "markdown",
   "id": "fb2d2b6b-b826-42b2-b8e6-81baca0b6657",
   "metadata": {},
   "source": [
    "***Question 4***"
   ]
  },
  {
   "cell_type": "code",
   "execution_count": 10,
   "id": "044e65c4-1486-4ea2-a91d-81f2d166f7ee",
   "metadata": {},
   "outputs": [
    {
     "name": "stdout",
     "output_type": "stream",
     "text": [
      "The area of the rectangle is: 680.00\n"
     ]
    }
   ],
   "source": [
    "# Display the result using the print function with two decimal places\n",
    "print(\"The area of the rectangle is: {:.2f}\".format(area))"
   ]
  },
  {
   "cell_type": "markdown",
   "id": "3478adba-d33d-4349-af53-d61e1d506a8b",
   "metadata": {},
   "source": [
    "***Question 5***"
   ]
  },
  {
   "cell_type": "code",
   "execution_count": 13,
   "id": "f159cd9b-d189-4134-89a2-b5e4ef1a3448",
   "metadata": {},
   "outputs": [
    {
     "name": "stdin",
     "output_type": "stream",
     "text": [
      "Enter the first number:  5\n",
      "Enter the second number:  15\n",
      "Enter the third number:  42\n"
     ]
    },
    {
     "name": "stdout",
     "output_type": "stream",
     "text": [
      "The average of the three numbers is: 20.67\n"
     ]
    }
   ],
   "source": [
    "# Prompt the user to enter three numbers\n",
    "num1 = float(input(\"Enter the first number: \"))\n",
    "num2 = float(input(\"Enter the second number: \"))\n",
    "num3 = float(input(\"Enter the third number: \"))\n",
    "\n",
    "# Calculate the average\n",
    "average = (num1 + num2 + num3) / 3\n",
    "\n",
    "# Display the result using the % formatting method\n",
    "print(\"The average of the three numbers is: %.2f\" % average)"
   ]
  },
  {
   "cell_type": "markdown",
   "id": "578d715b-bb61-46f8-bcde-364b667a3fe1",
   "metadata": {},
   "source": [
    "***Part 3 Language Component***"
   ]
  },
  {
   "cell_type": "markdown",
   "id": "b878700f-51a0-40fe-88ae-03ac028ae443",
   "metadata": {},
   "source": [
    "***Question 1***"
   ]
  },
  {
   "cell_type": "code",
   "execution_count": 17,
   "id": "507e2734-473d-4214-ba45-f23aca714dda",
   "metadata": {},
   "outputs": [
    {
     "name": "stdin",
     "output_type": "stream",
     "text": [
      "Enter a number (or type 'exit' to quit):  5\n"
     ]
    },
    {
     "name": "stdout",
     "output_type": "stream",
     "text": [
      "The number is positive.\n"
     ]
    },
    {
     "name": "stdin",
     "output_type": "stream",
     "text": [
      "Enter a number (or type 'exit' to quit):  -1\n"
     ]
    },
    {
     "name": "stdout",
     "output_type": "stream",
     "text": [
      "The number is negative.\n"
     ]
    },
    {
     "name": "stdin",
     "output_type": "stream",
     "text": [
      "Enter a number (or type 'exit' to quit):  exit\n"
     ]
    }
   ],
   "source": [
    "while True:\n",
    "    user_input = input(\"Enter a number (or type 'exit' to quit): \")\n",
    "\n",
    "    # Check if the user wants to exit\n",
    "    if user_input.lower() == 'exit':\n",
    "        break\n",
    "\n",
    "    # Convert input to a number\n",
    "    try:\n",
    "        number = float(user_input)\n",
    "        # Determine if the number is positive, negative, or zero\n",
    "        if number > 0:\n",
    "            print(\"The number is positive.\")\n",
    "        elif number < 0:\n",
    "            print(\"The number is negative.\")\n",
    "        else:\n",
    "            print(\"The number is zero.\")\n",
    "    except ValueError:\n",
    "        print(\"Please enter a valid number or 'exit' to quit.\")\n",
    "    continue  # Prompt for a new number if input is not 'exit'"
   ]
  },
  {
   "cell_type": "markdown",
   "id": "0ac3e4fe-892b-44a6-b334-cb5602bb2dd3",
   "metadata": {},
   "source": [
    "***Question 2***"
   ]
  },
  {
   "cell_type": "code",
   "execution_count": 19,
   "id": "8a60eaa7-cc8c-431f-a793-94643c8a78d6",
   "metadata": {},
   "outputs": [
    {
     "name": "stdin",
     "output_type": "stream",
     "text": [
      "Enter the first number:  2\n",
      "Enter the second number:  5\n"
     ]
    },
    {
     "name": "stdout",
     "output_type": "stream",
     "text": [
      "One number is even and the other is odd.\n"
     ]
    }
   ],
   "source": [
    "# Input two numbers from the user\n",
    "first_number = int(input(\"Enter the first number: \"))\n",
    "second_number = int(input(\"Enter the second number: \"))\n",
    "\n",
    "# Check whether both numbers are even, odd, or one of each using relational and logical operator\n",
    "if first_number % 2 == 0 and second_number % 2 == 0:\n",
    "    print(\"Both numbers are even.\")\n",
    "elif first_number % 2 != 0 and second_number % 2 != 0:\n",
    "    print(\"Both numbers are odd.\")\n",
    "else:\n",
    "    print(\"One number is even and the other is odd.\")"
   ]
  },
  {
   "cell_type": "markdown",
   "id": "e1cca14e-fbeb-4d08-ae65-3b73bfdc1da5",
   "metadata": {},
   "source": [
    "***Question 3***"
   ]
  },
  {
   "cell_type": "code",
   "execution_count": 22,
   "id": "7dd457c3-1cdf-4ec3-93ac-bcc597eb830c",
   "metadata": {},
   "outputs": [
    {
     "name": "stdin",
     "output_type": "stream",
     "text": [
      "Enter an integer:  45\n"
     ]
    },
    {
     "name": "stdout",
     "output_type": "stream",
     "text": [
      "Binary: 101101\n",
      "Octal: 55\n",
      "Hexadecimal: 2D\n"
     ]
    }
   ],
   "source": [
    "def convert_number(num):\n",
    "    if num < 0:\n",
    "        raise ValueError(\"Please enter a non-negative integer.\")\n",
    "\n",
    "    # Binary conversion\n",
    "    binary = ''\n",
    "    if num == 0:\n",
    "        binary = '0'\n",
    "    else:\n",
    "        # Using bitwise operations to build the binary representation\n",
    "        for i in range(num.bit_length() - 1, -1, -1):\n",
    "            binary += '1' if (num >> i) & 1 else '0'\n",
    "\n",
    "    # Octal conversion\n",
    "    octal = ''\n",
    "    if num == 0:\n",
    "        octal = '0'\n",
    "    else:\n",
    "        # Extract each group of 3 bits and convert to octal digit\n",
    "        while num > 0:\n",
    "            octal = str(num & 7) + octal\n",
    "            num >>= 3\n",
    "\n",
    "    # Hexadecimal conversion\n",
    "    num = int(binary, 2)  # Convert back to integer for hexadecimal conversion\n",
    "    hex_digits = \"0123456789ABCDEF\"\n",
    "    hexadecimal = ''\n",
    "    if num == 0:\n",
    "        hexadecimal = '0'\n",
    "    else:\n",
    "        # Extract each group of 4 bits and convert to hex digit\n",
    "        while num > 0:\n",
    "            hexadecimal = hex_digits[num & 15] + hexadecimal\n",
    "            num >>= 4\n",
    "\n",
    "    print(f\"Binary: {binary}\")\n",
    "    print(f\"Octal: {octal}\")\n",
    "    print(f\"Hexadecimal: {hexadecimal}\")\n",
    "\n",
    "# Take integer input from the user\n",
    "try:\n",
    "    number = int(input(\"Enter an integer: \"))\n",
    "    convert_number(number)\n",
    "except ValueError as e:\n",
    "    print(f\"Error: {e}\")\n"
   ]
  },
  {
   "cell_type": "code",
   "execution_count": null,
   "id": "d25016ef-b334-48f1-8e91-cabcb52ea125",
   "metadata": {},
   "outputs": [],
   "source": []
  }
 ],
 "metadata": {
  "kernelspec": {
   "display_name": "Python 3 (ipykernel)",
   "language": "python",
   "name": "python3"
  },
  "language_info": {
   "codemirror_mode": {
    "name": "ipython",
    "version": 3
   },
   "file_extension": ".py",
   "mimetype": "text/x-python",
   "name": "python",
   "nbconvert_exporter": "python",
   "pygments_lexer": "ipython3",
   "version": "3.9.7"
  }
 },
 "nbformat": 4,
 "nbformat_minor": 5
}
