{
 "cells": [
  {
   "cell_type": "code",
   "execution_count": 1,
   "id": "985269c1-ae0e-4387-8e2c-8c00b21df78d",
   "metadata": {},
   "outputs": [
    {
     "data": {
      "text/plain": [
       "['590010314@stu.upes.ac.in',\n",
       " '590011163@stu.upes.ac.in',\n",
       " '590010635@stu.upes.ac.in']"
      ]
     },
     "execution_count": 1,
     "metadata": {},
     "output_type": "execute_result"
    }
   ],
   "source": [
    "#1st logic\n",
    "\n",
    "sapids = [590010314,590011163,590010635]\n",
    "def id2email(id):\n",
    "    #return str(id) + \"@stu.upes.ac.in\"\n",
    "    return f\"{id}@stu.upes.ac.in\"\n",
    "emails=[]\n",
    "for id in sapids:\n",
    "    email = id2email(id)\n",
    "    emails.append(email)\n",
    "    \n",
    "list_of_emails = emails\n",
    "list_of_emails"
   ]
  },
  {
   "cell_type": "code",
   "execution_count": 2,
   "id": "bfb24833-0a97-4407-a845-4e9a94f3f69f",
   "metadata": {},
   "outputs": [
    {
     "data": {
      "text/plain": [
       "['590010314@stu.upes.ac.in',\n",
       " '590011163@stu.upes.ac.in',\n",
       " '590010635@stu.upes.ac.in']"
      ]
     },
     "execution_count": 2,
     "metadata": {},
     "output_type": "execute_result"
    }
   ],
   "source": [
    "#1st logic using map function\n",
    "\n",
    "def id2email(id):\n",
    "    return str(id) + \"@stu.upes.ac.in\"\n",
    "\n",
    "#list_of_emails = map(id2email,sapids) # for python2\n",
    "\n",
    "list_of_emails = list(map(id2email,sapids)) # for python3\n",
    "list_of_emails"
   ]
  },
  {
   "cell_type": "code",
   "execution_count": 3,
   "id": "263974ea-9207-4222-9798-c96eb8af909f",
   "metadata": {},
   "outputs": [
    {
     "data": {
      "text/plain": [
       "['590010314@stu.upes.ac.in',\n",
       " '590011163@stu.upes.ac.in',\n",
       " '590010635@stu.upes.ac.in']"
      ]
     },
     "execution_count": 3,
     "metadata": {},
     "output_type": "execute_result"
    }
   ],
   "source": [
    "#2nd logic using map and lambda\n",
    "\n",
    "sapids = [590010314,590011163,590010635]\n",
    "\n",
    "list_of_emails = list(map(lambda id : str(id) + \"@stu.upes.ac.in\" ,sapids)) # for python3\n",
    "list_of_emails"
   ]
  },
  {
   "cell_type": "code",
   "execution_count": 5,
   "id": "02beee4d-7414-4c1c-975a-fdbeb4dfaa1c",
   "metadata": {},
   "outputs": [
    {
     "data": {
      "text/plain": [
       "['590010314@stu.upes.ac.in',\n",
       " '590011163@stu.upes.ac.in',\n",
       " '590010635@stu.upes.ac.in']"
      ]
     },
     "execution_count": 5,
     "metadata": {},
     "output_type": "execute_result"
    }
   ],
   "source": [
    "#3rd logic using list comprehension\n",
    "\n",
    "sapids = [590010314,590011163,590010635]\n",
    "\n",
    "list_of_emails = [f\"{id}@stu.upes.ac.in\" for id in sapids]\n",
    "list_of_emails"
   ]
  },
  {
   "cell_type": "markdown",
   "id": "1aba4922-b081-4bd9-bd60-a514a3ab29c3",
   "metadata": {},
   "source": [
    "**Write a program that takes two values from user and returns divison first from second**"
   ]
  },
  {
   "cell_type": "code",
   "execution_count": 8,
   "id": "c2436171-0b4d-4898-9868-05f18fd6528a",
   "metadata": {},
   "outputs": [
    {
     "name": "stdin",
     "output_type": "stream",
     "text": [
      "Enter number 1 - 50\n",
      "Enter number 2 - 5\n"
     ]
    },
    {
     "name": "stdout",
     "output_type": "stream",
     "text": [
      "division of 50/5 is 10.0\n"
     ]
    }
   ],
   "source": [
    "a = int(input(\"Enter number 1 -\"))\n",
    "b = int(input(\"Enter number 2 -\"))\n",
    "\n",
    "def div(a,b):\n",
    "    assert b !=0\n",
    "    return a/b\n",
    "\n",
    "print(f\"division of {a}/{b} is {div(a,b)}\")"
   ]
  },
  {
   "cell_type": "code",
   "execution_count": null,
   "id": "a6654e47-2ce2-4e35-8c90-3f01acb4ad47",
   "metadata": {},
   "outputs": [],
   "source": []
  }
 ],
 "metadata": {
  "kernelspec": {
   "display_name": "Python 3 (ipykernel)",
   "language": "python",
   "name": "python3"
  },
  "language_info": {
   "codemirror_mode": {
    "name": "ipython",
    "version": 3
   },
   "file_extension": ".py",
   "mimetype": "text/x-python",
   "name": "python",
   "nbconvert_exporter": "python",
   "pygments_lexer": "ipython3",
   "version": "3.9.7"
  }
 },
 "nbformat": 4,
 "nbformat_minor": 5
}
