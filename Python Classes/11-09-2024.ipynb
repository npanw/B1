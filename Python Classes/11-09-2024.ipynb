{
 "cells": [
  {
   "cell_type": "code",
   "execution_count": 2,
   "id": "ee25cfcc-4f09-45cd-88bf-241cf7016bc5",
   "metadata": {},
   "outputs": [
    {
     "data": {
      "text/plain": [
       "['.git', 'Python Assignments', 'Python Classes']"
      ]
     },
     "execution_count": 2,
     "metadata": {},
     "output_type": "execute_result"
    }
   ],
   "source": [
    "import os\n",
    "address =r\"C:\\Users\\nspan\\B1\"\n",
    "\n",
    "list_of_files = os.listdir(address)\n",
    "list_of_files"
   ]
  },
  {
   "cell_type": "code",
   "execution_count": 3,
   "id": "49fb35a0-880a-4547-9bbe-21a26f9a2b44",
   "metadata": {},
   "outputs": [
    {
     "data": {
      "text/plain": [
       "'jpg'"
      ]
     },
     "execution_count": 3,
     "metadata": {},
     "output_type": "execute_result"
    }
   ],
   "source": [
    "filename = \"base.name.jpg\"\n",
    "list1 = filename.split(\".\")\n",
    "list1[-1]"
   ]
  },
  {
   "cell_type": "code",
   "execution_count": 4,
   "id": "2f4b2620-1b8a-4bef-a0ce-365c4b3505aa",
   "metadata": {},
   "outputs": [
    {
     "name": "stdin",
     "output_type": "stream",
     "text": [
      "Enter directory address \n",
      " C:\\Users\\nspan\\B1\n"
     ]
    },
    {
     "name": "stdout",
     "output_type": "stream",
     "text": [
      "1\n"
     ]
    }
   ],
   "source": [
    "import os\n",
    "\n",
    "address = input(\"Enter directory address \\n\")\n",
    "address =r\"C:\\Users\\nspan\\B1\"\n",
    "\n",
    "os.chdir(address)\n",
    "\n",
    "cmd=\"pwd\"\n",
    "print(os.system(cmd))"
   ]
  },
  {
   "cell_type": "code",
   "execution_count": null,
   "id": "e1680e52-62fc-4ef6-a513-2f15af6b19b6",
   "metadata": {},
   "outputs": [],
   "source": []
  }
 ],
 "metadata": {
  "kernelspec": {
   "display_name": "Python 3 (ipykernel)",
   "language": "python",
   "name": "python3"
  },
  "language_info": {
   "codemirror_mode": {
    "name": "ipython",
    "version": 3
   },
   "file_extension": ".py",
   "mimetype": "text/x-python",
   "name": "python",
   "nbconvert_exporter": "python",
   "pygments_lexer": "ipython3",
   "version": "3.9.7"
  }
 },
 "nbformat": 4,
 "nbformat_minor": 5
}
