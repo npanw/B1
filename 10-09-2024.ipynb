{
 "cells": [
  {
   "cell_type": "code",
   "execution_count": 3,
   "id": "10c577bf-ad13-4524-9b5f-1e314ca6b22c",
   "metadata": {},
   "outputs": [
    {
     "data": {
      "text/plain": [
       "30"
      ]
     },
     "execution_count": 3,
     "metadata": {},
     "output_type": "execute_result"
    }
   ],
   "source": [
    "#lambda, map, filter list comprehension\n",
    "\n",
    "#function to add two variables\n",
    "\n",
    "def myadd1(a,b):\n",
    "    res = a + b\n",
    "    return res\n",
    "\n",
    "a=10\n",
    "b=20\n",
    "res = myadd1(a,b)\n",
    "res"
   ]
  },
  {
   "cell_type": "markdown",
   "id": "e9e7b44c-83cd-4798-8e19-1ec3e7cd797b",
   "metadata": {},
   "source": [
    "**Write a program to multiply two variable using lambda function**"
   ]
  },
  {
   "cell_type": "code",
   "execution_count": 4,
   "id": "90c9b987-079a-40b2-8e4a-83435de65471",
   "metadata": {},
   "outputs": [
    {
     "name": "stdout",
     "output_type": "stream",
     "text": [
      "<function <lambda> at 0x000001CD9306E700>\n"
     ]
    },
    {
     "data": {
      "text/plain": [
       "6"
      ]
     },
     "execution_count": 4,
     "metadata": {},
     "output_type": "execute_result"
    }
   ],
   "source": [
    "a = 2\n",
    "b = 3\n",
    "def mul(a,b):\n",
    "    return a*b\n",
    "\n",
    "#using lambda\n",
    "multiply = lambda a,b : a*b\n",
    "print (multiply)\n",
    "mul(a,b)"
   ]
  },
  {
   "cell_type": "markdown",
   "id": "e4e222f0-8c22-4db1-b038-4aa85d6fff67",
   "metadata": {},
   "source": [
    "**Write a program to square each number in a list without using map and lambda**"
   ]
  },
  {
   "cell_type": "code",
   "execution_count": 17,
   "id": "9f2c6be8-04b4-4b0e-b5db-47b32094a530",
   "metadata": {},
   "outputs": [
    {
     "name": "stdout",
     "output_type": "stream",
     "text": [
      "[1, 4, 9, 16, 25]\n"
     ]
    }
   ],
   "source": [
    "numbers = [1,2,3,4,5]\n",
    "squared_numbers = []\n",
    "for num in numbers:\n",
    "    squared_numbers.append(num**2)\n",
    "print(squared_numbers)"
   ]
  },
  {
   "cell_type": "markdown",
   "id": "ec9c802d-8988-4947-9cf1-0c8dd231cc32",
   "metadata": {},
   "source": [
    "print only even numbers"
   ]
  },
  {
   "cell_type": "code",
   "execution_count": 18,
   "id": "2b8b3ae4-2efa-4766-804f-da927c83496e",
   "metadata": {},
   "outputs": [
    {
     "name": "stdout",
     "output_type": "stream",
     "text": [
      "[4, 16]\n"
     ]
    }
   ],
   "source": [
    "even_squared_numbers = [num for num in squared_numbers if num % 2 ==0]\n",
    "print(even_squared_numbers)"
   ]
  },
  {
   "cell_type": "markdown",
   "id": "47ac187f-de94-4a97-901a-b73b7e8eb42d",
   "metadata": {},
   "source": [
    "**Write a program to list square of even nunbers from 0 to 9**"
   ]
  },
  {
   "cell_type": "code",
   "execution_count": 20,
   "id": "b89c15df-8484-4f52-a0a4-7283a3ba35aa",
   "metadata": {},
   "outputs": [
    {
     "name": "stdout",
     "output_type": "stream",
     "text": [
      "[0, 4, 16, 36, 64]\n"
     ]
    }
   ],
   "source": [
    "square=[]\n",
    "for i in range(10):\n",
    "    if i%2==0:\n",
    "        square.append(i**2)\n",
    "print(square)        "
   ]
  },
  {
   "cell_type": "markdown",
   "id": "83cba708-54f5-4d73-b1d0-5cf1388671f7",
   "metadata": {},
   "source": [
    "**Write a program that takes a list containing your SAP ID and resturns a list of Email Address**"
   ]
  },
  {
   "cell_type": "code",
   "execution_count": null,
   "id": "1e7e9999-1e7b-4fef-8c1c-8e0e5c447cde",
   "metadata": {},
   "outputs": [],
   "source": [
    "sap_id = [\"590010314\"]\n",
    "email_address = list(map(lambda"
   ]
  },
  {
   "cell_type": "markdown",
   "id": "36322366-a814-46c1-88e7-10b8a55ebc12",
   "metadata": {},
   "source": [
    "**Write a program to print current time then pause for 2 seconds and again print current time**"
   ]
  },
  {
   "cell_type": "code",
   "execution_count": 21,
   "id": "f130ca11-3e9d-4f6f-82f5-ae806d0d0ff9",
   "metadata": {},
   "outputs": [
    {
     "name": "stdout",
     "output_type": "stream",
     "text": [
      "Current time: 09:15:15.333699\n",
      "Current time: 09:15:17.343804\n"
     ]
    }
   ],
   "source": [
    "import time\n",
    "import datetime\n",
    "\n",
    "print(\"Current time:\", datetime.datetime.now().time())\n",
    "\n",
    "time.sleep(2)\n",
    "\n",
    "print(\"Current time:\", datetime.datetime.now().time())"
   ]
  },
  {
   "cell_type": "markdown",
   "id": "683e4fa4-1da9-4de6-b620-8da4f1e11bce",
   "metadata": {},
   "source": [
    "**Write a program that takes directory address from user and returns a list of files and directories in that list,using os module**"
   ]
  },
  {
   "cell_type": "code",
   "execution_count": null,
   "id": "1a629e9e-342b-4c8a-8617-88abdd056b00",
   "metadata": {},
   "outputs": [],
   "source": []
  }
 ],
 "metadata": {
  "kernelspec": {
   "display_name": "Python 3 (ipykernel)",
   "language": "python",
   "name": "python3"
  },
  "language_info": {
   "codemirror_mode": {
    "name": "ipython",
    "version": 3
   },
   "file_extension": ".py",
   "mimetype": "text/x-python",
   "name": "python",
   "nbconvert_exporter": "python",
   "pygments_lexer": "ipython3",
   "version": "3.9.7"
  }
 },
 "nbformat": 4,
 "nbformat_minor": 5
}
